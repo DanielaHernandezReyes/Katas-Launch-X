{
 "cells": [
  {
   "cell_type": "markdown",
   "metadata": {},
   "source": [
    "## **Usar lógica booleana**\n",
    "### Elaborado por: Daniela Estefania Hernandez Reyes\n",
    "#### **Modulo 3 - Kata:**"
   ]
  },
  {
   "cell_type": "markdown",
   "metadata": {},
   "source": [
    "**Ejercicio - Escribir declaraciones if, else, y elif**  \n",
    "\n",
    "**Problema 1:**\n",
    "Un asteroide se acerca, y viaja a una velocidad de 49 km/s."
   ]
  },
  {
   "cell_type": "code",
   "execution_count": 8,
   "metadata": {},
   "outputs": [
    {
     "name": "stdout",
     "output_type": "stream",
     "text": [
      "¡ALERTA!, Un asteroide se dirige a la Tierra a velocidades peligrosas\n"
     ]
    }
   ],
   "source": [
    "veloAst=49 #Velocidad del asteroide 49 km/s.\n",
    "if veloAst >= 25: #Definimos la condicional para determinar que si la velocidad del asteroide es mayor o igual a 25 km/s\n",
    "    #Si se cumple la condición.\n",
    "    print(\"¡ALERTA!, Un asteroide se dirige a la Tierra a velocidades peligrosas\") #Imprime mensaje de alerta!.\n",
    "else: \n",
    "    #Si no se cumple la condición.\n",
    "    print(\"¡TODO ESTA NORMAL!, puedes continuar con tu día\") #Imprime mensaje que todo esta normal."
   ]
  },
  {
   "cell_type": "markdown",
   "metadata": {},
   "source": [
    "**Problema 2:**\n",
    "Si un asteroide entra en la atmósfera de la Tierra a una velocidad mayor o igual a 20 km/s, a veces produce un rayo de luz que se puede ver desde la Tierra. Escribe la lógica condicional que usa declaraciones if, else, y elif para alertar a las personas de todo el mundo que deben buscar un asteroide en el cielo. ¡Hay uno que se dirige a la tierra ahora a una velocidad de 19 km/s!"
   ]
  },
  {
   "cell_type": "code",
   "execution_count": 9,
   "metadata": {},
   "outputs": [
    {
     "name": "stdout",
     "output_type": "stream",
     "text": [
      "¡TODO ESTA NORMAL!, No hay nada que ver en el cielo\n"
     ]
    }
   ],
   "source": [
    "veloAst=19 #Velocidad del asteroide 19 km/s.\n",
    "if veloAst > 20: #Definimos la condicional para determinar que si la velocidad del asteroide es mayor a 20 km/s.\n",
    "    #Si se cumple la primera condición.\n",
    "    print(\"¡MIRA AL CIELO!, Un asteroide se encuentra atravesando la atmosfera en este momento\") #Imprime mensaje de alerta!.\n",
    "elif veloAst == 20: #Segunda condicional\n",
    "    #Si se cumple la  segunda condición.\n",
    "    print(\"¡MIRA AL CIELO!, Un asteroide se encuentra atravesando la atmosfera en este momento\") #Imprime mensaje de alerta!.\n",
    "else: #Si no se cumplen las dos condiciones anteriores.\n",
    "    print(\"¡TODO ESTA NORMAL!, No hay nada que ver en el cielo\" ) #Imprime mensaje que todo esta normal."
   ]
  },
  {
   "cell_type": "markdown",
   "metadata": {},
   "source": [
    "**Ejercicio - Uso de operadores and y or**  \n",
    "\n",
    "**Problema 1:**\n",
    "\n",
    "Los asteroides de menos de 25 metros en su dimensión más grande probablemente se quemarán a medida que entren en la atmósfera de la Tierra.\n",
    "\n",
    "Si una pieza de un asteroide que es más grande que 25 metros pero más pequeña que 1000 metros golpeara la Tierra, causaría mucho daño.\n",
    "También discutimos en el ejercicio anterior que:\n",
    "\n",
    "La velocidad del asteroide varía en función de lo cerca que esté del sol, y cualquier velocidad superior a 25 kilómetros por segundo (km/s) merece una advertencia.\n",
    "Si un asteroide entra en la atmósfera de la Tierra a una velocidad mayor o igual a 20 km/s, a veces produce un rayo de luz que se puede ver desde la Tierra.\n",
    "Usando toda esta información, escribe un programa que emita la advertencia o información correcta a la gente de la Tierra, según la velocidad y el tamaño de un asteroide. Utiliza instrucciones if, else, y elif, así como los operadores and y or."
   ]
  },
  {
   "cell_type": "code",
   "execution_count": 10,
   "metadata": {},
   "outputs": [
    {
     "name": "stdout",
     "output_type": "stream",
     "text": [
      "¡MIRA AL CIELO!, Un asteroide se encuentra atravesando la atmosfera en este momento\n"
     ]
    }
   ],
   "source": [
    "# Agrega el código para crear nuevas variables para la velocidad y el tamaño del asteroide\n",
    "# Para probar el código, prueba con varias velocidades y tamaños\n",
    "# Escribe varias expresiones de prueba o combinaciones de expresiones de prueba para determinar qué mensaje se debe enviar a Tierra.\n",
    "\n",
    "veloAst= 25\n",
    "tamAst = 40\n",
    "if veloAst> 25 and tamAst > 25:\n",
    "    print(\"¡ALERTA!, Un asteroide se dirige a la Tierra a velocidades peligrosas\") #Imprime mensaje de alerta!.\n",
    "elif veloAst >= 20:\n",
    "    print(\"¡MIRA AL CIELO!, Un asteroide se encuentra atravesando la atmosfera en este momento\") #Imprime mensaje de alerta!.\n",
    "elif tamAst< 25:\n",
    "    print(\"¡TODO ESTA NORMAL!, No hay nada que ver en el cielo\" ) #Imprime mensaje que todo esta normal\n",
    "else:\n",
    "    print(\"¡TODO ESTA NORMAL!, No hay nada que ver en el cielo\" ) #Imprime mensaje que todo esta normal"
   ]
  }
 ],
 "metadata": {
  "interpreter": {
   "hash": "4e961794ad8232c6fd9edbd148d09d9dd9c03ca17f124f2059d1269150ba0ea1"
  },
  "kernelspec": {
   "display_name": "Python 3.10.2 64-bit",
   "language": "python",
   "name": "python3"
  },
  "language_info": {
   "codemirror_mode": {
    "name": "ipython",
    "version": 3
   },
   "file_extension": ".py",
   "mimetype": "text/x-python",
   "name": "python",
   "nbconvert_exporter": "python",
   "pygments_lexer": "ipython3",
   "version": "3.10.2"
  },
  "orig_nbformat": 4
 },
 "nbformat": 4,
 "nbformat_minor": 2
}
