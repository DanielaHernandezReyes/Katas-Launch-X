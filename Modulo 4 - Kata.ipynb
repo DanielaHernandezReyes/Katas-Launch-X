{
 "cells": [
  {
   "cell_type": "markdown",
   "metadata": {},
   "source": [
    "### Elaborado por: Daniela Estefania Hernandez Reyes\n",
    "#### **Modulo 4 - Kata:**\n",
    "##### **Ejercicio 1:** Transformar cadenas."
   ]
  },
  {
   "cell_type": "markdown",
   "metadata": {},
   "source": [
    "Usar métodos de cadena para modificar el texto con hechos sobre la Luna y luego extraerás información para crear un breve resumen."
   ]
  },
  {
   "cell_type": "code",
   "execution_count": 124,
   "metadata": {},
   "outputs": [],
   "source": [
    "#Texto inicial.\n",
    "texto = \"\"\"Interesting facts about the Moon. The Moon is Earth's only satellite. There are several interesting facts about the Moon and how it affects life here on Earth. \n",
    "On average, the Moon moves 4cm away from the Earth every year. This yearly drift is not significant enough to cause immedia\"\"\""
   ]
  },
  {
   "cell_type": "markdown",
   "metadata": {},
   "source": [
    "Primero dividimos el texto en oraciones para trabajar con su contenido de manera mas facil."
   ]
  },
  {
   "cell_type": "code",
   "execution_count": 125,
   "metadata": {},
   "outputs": [
    {
     "data": {
      "text/plain": [
       "['Interesting facts about the Moon',\n",
       " \"The Moon is Earth's only satellite\",\n",
       " 'There are several interesting facts about the Moon and how it affects life here on Earth',\n",
       " '\\nOn average, the Moon moves 4cm away from the Earth every year',\n",
       " 'This yearly drift is not significant enough to cause immedia']"
      ]
     },
     "execution_count": 125,
     "metadata": {},
     "output_type": "execute_result"
    }
   ],
   "source": [
    "#Definimos una variable llamada \"partes_Texto, que se encargara de dividir el texto principal \"text\", en oraciones.\n",
    "partes_Texto = texto.split(\". \") #Usamos el metodo .split() para dividirla. Dentro de los parentesis de dicho metodo asignamos un \".\".\n",
    "#Esto le indica que va a separar cada parte de texto hasta el punto.\n",
    "partes_Texto #Imprime el contenido de la variable partes_Texto. Es decir nuestro texto dividido en oraciones.\n"
   ]
  },
  {
   "cell_type": "markdown",
   "metadata": {},
   "source": [
    "Definimos palabras clave para realizar una búsqueda que determinara si una oración contiene un hecho."
   ]
  },
  {
   "cell_type": "code",
   "execution_count": 126,
   "metadata": {},
   "outputs": [],
   "source": [
    "#Palabras Clave\n",
    "palabrasClave = [\"average\", \"temperature\", \"distance\"] #Palabras clave definidas."
   ]
  },
  {
   "cell_type": "markdown",
   "metadata": {},
   "source": [
    "Bucle para imprimir solo datos sobre la Luna que estén relacionados con las palabras clave definidas anteriormente:"
   ]
  },
  {
   "cell_type": "code",
   "execution_count": 127,
   "metadata": {},
   "outputs": [
    {
     "name": "stdout",
     "output_type": "stream",
     "text": [
      "\n",
      "On average, the Moon moves 4cm away from the Earth every year\n"
     ]
    }
   ],
   "source": [
    "#Ciclo for para recorrer la cadena de texto \"texto\" e imprimir los datos que solo contengan las palabras claves.\n",
    "for parrafo in partes_Texto:\n",
    "    for palabraClave in palabrasClave:\n",
    "        if palabraClave in parrafo:\n",
    "            print(parrafo)\n",
    "            break"
   ]
  },
  {
   "cell_type": "code",
   "execution_count": 128,
   "metadata": {},
   "outputs": [
    {
     "name": "stdout",
     "output_type": "stream",
     "text": [
      "\n",
      "On average, the Moon moves 4cm away from the Earth every year\n"
     ]
    }
   ],
   "source": [
    "#Ciclo for actualizado para cambiar la C a Celsius.\n",
    "for parrafo in partes_Texto:\n",
    "    for palabraClave in palabrasClave:\n",
    "        if palabraClave in parrafo:\n",
    "            print(parrafo.replace('C','Celsius')) #Usando el metodo .replace(), reemplazamnos 'C' por 'Celsius'\n",
    "            break"
   ]
  },
  {
   "cell_type": "markdown",
   "metadata": {},
   "source": [
    "##### **Ejercicio 2:** Formateando cadenas.\n",
    "**Parte 1**  \n",
    "En este ejercicio, se utilizan variables que contienen datos clave sobre la gravedad en varias lunas y luego se utilizan para dar formato e imprimir la información.\n",
    "\n",
    "El formato tiene que acomodar información sobre otras lunas, por lo que debe ser genérico.\n",
    "\n",
    "En lugar de reemplazar las variables en una cadena larga como parte de un párrafo, utiliza la información para presentarla en un formato tabular. El resultado debería verse así:"
   ]
  },
  {
   "cell_type": "markdown",
   "metadata": {},
   "source": [
    "Gravity Facts about Ganymede\n",
    "##### ------------------------------------------------------------------------------- \n",
    "Planet Name: Mars  \n",
    "Gravity on Ganymede: 1.4300000000000002 m/s2"
   ]
  },
  {
   "cell_type": "code",
   "execution_count": 129,
   "metadata": {},
   "outputs": [],
   "source": [
    "#Datos \n",
    "nombre = 'Moon'\n",
    "gravedad = 0.00162 # en km/s\n",
    "planeta = 'Earth'\n"
   ]
  },
  {
   "cell_type": "markdown",
   "metadata": {},
   "source": [
    "Titulo del texto:"
   ]
  },
  {
   "cell_type": "code",
   "execution_count": 130,
   "metadata": {},
   "outputs": [],
   "source": [
    "titulo = f'Datos de gravedad sobre:  {nombre}'"
   ]
  },
  {
   "cell_type": "markdown",
   "metadata": {},
   "source": [
    "Plantilla para almacenar la cadena multilinea.\n",
    "Conversión de la distancia a metros multiplicando por 1,000."
   ]
  },
  {
   "cell_type": "code",
   "execution_count": 131,
   "metadata": {},
   "outputs": [],
   "source": [
    "#Creamos la plantilla\n",
    "#Muestra los datos acerca del texto.\n",
    "datos = f\"\"\"{'-'*70} \n",
    "Nombre del planeta: {planeta} \n",
    "Gravedad en  {nombre}: {gravedad * 1000} m/s2 \n",
    "\"\"\""
   ]
  },
  {
   "cell_type": "markdown",
   "metadata": {},
   "source": [
    "Por ultimo unimos la cadena de \"datos\" con el \"titulo\"."
   ]
  },
  {
   "cell_type": "code",
   "execution_count": 132,
   "metadata": {},
   "outputs": [
    {
     "name": "stdout",
     "output_type": "stream",
     "text": [
      "\"Datos De Gravedad Sobre:  Moon\n",
      "---------------------------------------------------------------------- \n",
      "Nombre del planeta: Earth \n",
      "Gravedad en  Moon: 1.6199999999999999 m/s2 \n",
      "\n",
      "\n"
     ]
    }
   ],
   "source": [
    "plantilla = f\"\"\"\"{titulo.title()}\n",
    "{datos}\n",
    "\"\"\"\n",
    "print(plantilla)"
   ]
  },
  {
   "cell_type": "markdown",
   "metadata": {},
   "source": [
    "**Parte 2**  \n",
    "Usamos información de una luna diferente para ver si la plantilla todavía funciona."
   ]
  },
  {
   "cell_type": "code",
   "execution_count": 133,
   "metadata": {},
   "outputs": [
    {
     "name": "stdout",
     "output_type": "stream",
     "text": [
      "\"Datos De Gravedad Sobre:  Moon\n",
      "---------------------------------------------------------------------- \n",
      "Nombre del planeta: Earth \n",
      "Gravedad en  Moon: 1.6199999999999999 m/s2 \n",
      "\n",
      "\n"
     ]
    }
   ],
   "source": [
    "#Datos de muestra para probar la plantilla-\n",
    "nombre = 'Ganímedes'\n",
    "gravedad  = 0.00143 #en km/s\n",
    "planeta = 'Marte'\n",
    "\n",
    "##Comprobamos la plantilla\n",
    "print(plantilla)"
   ]
  },
  {
   "cell_type": "markdown",
   "metadata": {},
   "source": [
    "Se vuelve a realizar otra plantilla por que la anterior no funciona correctamente debido a que todavía muestra la información sobre la Luna.  \n",
    "Para evitar este problema, se volvera a hacer la plantilla para utilizar .format():"
   ]
  },
  {
   "cell_type": "code",
   "execution_count": 134,
   "metadata": {},
   "outputs": [
    {
     "name": "stdout",
     "output_type": "stream",
     "text": [
      "\n",
      "Datos de Gravedad sobre: Ganímedes\n",
      "----------------------------------------------------------------------------------\n",
      "Nombre del planeta: Marte\n",
      "Gravedad en Ganímedes: 0.00143 m/s2\n",
      "\n"
     ]
    }
   ],
   "source": [
    "nueva_Plantilla = \"\"\"\n",
    "Datos de Gravedad sobre: {nombre}\n",
    "----------------------------------------------------------------------------------\n",
    "Nombre del planeta: {planeta}\n",
    "Gravedad en {nombre}: {gravedad} m/s2\n",
    "\"\"\"\n",
    "print(nueva_Plantilla.format(planeta=planeta, gravedad=gravedad, nombre=nombre))"
   ]
  },
  {
   "cell_type": "markdown",
   "metadata": {},
   "source": [
    "Debido a que .format() no permite expresiones, la gravedad en Ganímedes es incorrecta. "
   ]
  },
  {
   "cell_type": "code",
   "execution_count": 135,
   "metadata": {},
   "outputs": [
    {
     "name": "stdout",
     "output_type": "stream",
     "text": [
      "\n",
      "Datos de Gravedad sobre: Ganímedes\n",
      "----------------------------------------------------------------------------------\n",
      "Nombre del planeta: Marte\n",
      "Gravedad en Ganímedes: 1.4300000000000002 m/s2\n",
      "\n"
     ]
    }
   ],
   "source": [
    "#Es por ello que realizamos la operación para determinar la gravedad fuera de la plantilla y la reimprimimos.\n",
    "print(nueva_Plantilla.format(planeta=planeta, gravedad=gravedad*1000, nombre=nombre))"
   ]
  }
 ],
 "metadata": {
  "interpreter": {
   "hash": "4e961794ad8232c6fd9edbd148d09d9dd9c03ca17f124f2059d1269150ba0ea1"
  },
  "kernelspec": {
   "display_name": "Python 3.10.2 64-bit",
   "language": "python",
   "name": "python3"
  },
  "language_info": {
   "codemirror_mode": {
    "name": "ipython",
    "version": 3
   },
   "file_extension": ".py",
   "mimetype": "text/x-python",
   "name": "python",
   "nbconvert_exporter": "python",
   "pygments_lexer": "ipython3",
   "version": "3.10.2"
  },
  "orig_nbformat": 4
 },
 "nbformat": 4,
 "nbformat_minor": 2
}
