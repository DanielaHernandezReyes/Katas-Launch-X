{
 "cells": [
  {
   "cell_type": "markdown",
   "metadata": {},
   "source": [
    "### Elaborado por: Daniela Estefania Hernandez Reyes\n",
    "#### **Modulo 8 - Kata:**\n",
    "##### Ejercicio 1: Creación de diccionarios de Python\n",
    "Diccionario sobre el planeta Marte:"
   ]
  },
  {
   "cell_type": "code",
   "execution_count": 4,
   "metadata": {},
   "outputs": [
    {
     "name": "stdout",
     "output_type": "stream",
     "text": [
      "Mars tiene 2 moons\n",
      "Mars tiene una circunferencia polar de 6752\n"
     ]
    }
   ],
   "source": [
    "#Creamos un diccionario llamado planet y le agregamos información acerca del planeta marte.\n",
    "planet = {\n",
    "'name':'Mars',\n",
    "'moons': 2\n",
    "}\n",
    "#Mostramos el planeta y el numero de lunas que tiene:\n",
    "print(f'{planet[\"name\"]} tiene {planet[\"moons\"]} moons')\n",
    "\n",
    "#Posteriormente agregamos mas datos al diccionario.\n",
    "planet['circumference (km)'] = {\n",
    "    'polar': 6752,\n",
    "    'equatorial': 6792\n",
    "}\n",
    "\n",
    "#Imprimimos nuevamente toda la información.\n",
    "print(f'{planet[\"name\"]} tiene una circunferencia polar de {planet[\"circumference (km)\"][\"polar\"]}')"
   ]
  },
  {
   "cell_type": "markdown",
   "metadata": {},
   "source": [
    "##### Ejercicio 2: Programación dinámica con diccionarios"
   ]
  },
  {
   "cell_type": "code",
   "execution_count": 2,
   "metadata": {},
   "outputs": [
    {
     "name": "stdout",
     "output_type": "stream",
     "text": [
      "El numero promedio de lunas es:  17.833333333333332\n"
     ]
    }
   ],
   "source": [
    "#A continuación se calculara el numero total de lunas en el sistema solar como el numero promedio que tiene un planeta.\n",
    "planet_moons = {\n",
    "    'mercury': 0,\n",
    "    'venus': 0,\n",
    "    'earth': 1,\n",
    "    'mars': 2,\n",
    "    'jupiter': 79,\n",
    "    'saturn': 82,\n",
    "    'uranus': 27,\n",
    "    'neptune': 14,\n",
    "    'pluto': 5,\n",
    "    'haumea': 2,\n",
    "    'makemake': 1,\n",
    "    'eris': 1\n",
    "}\n",
    "\n",
    "#Se obtiene la lista de los planetas.\n",
    "#Se almacenan todos los resultados en la variable \"planet moons.value()\"\n",
    "moons = planet_moons.values()\n",
    "\n",
    "#Posteriormente se obtienen el numero total de planetas\n",
    "planets = len(planet_moons.keys())\n",
    "# Calculamos el numero total de lunas:\n",
    "# Almacena su valor en una variable llamada \"total_moons\"\n",
    "\n",
    "total_moons = 0\n",
    "for moon in moons:\n",
    "    total_moons = total_moons + moon\n",
    "\n",
    "#Calcula el promedio dividiendo el total_moons por el número de planetas.\n",
    "average = total_moons / planets\n",
    "\n",
    "#El resultado promedio\n",
    "print(\"El numero promedio de lunas es: \",average)"
   ]
  },
  {
   "cell_type": "markdown",
   "metadata": {},
   "source": []
  },
  {
   "cell_type": "markdown",
   "metadata": {},
   "source": []
  }
 ],
 "metadata": {
  "interpreter": {
   "hash": "4e961794ad8232c6fd9edbd148d09d9dd9c03ca17f124f2059d1269150ba0ea1"
  },
  "kernelspec": {
   "display_name": "Python 3.10.2 64-bit",
   "language": "python",
   "name": "python3"
  },
  "language_info": {
   "codemirror_mode": {
    "name": "ipython",
    "version": 3
   },
   "file_extension": ".py",
   "mimetype": "text/x-python",
   "name": "python",
   "nbconvert_exporter": "python",
   "pygments_lexer": "ipython3",
   "version": "3.10.2"
  },
  "orig_nbformat": 4
 },
 "nbformat": 4,
 "nbformat_minor": 2
}
