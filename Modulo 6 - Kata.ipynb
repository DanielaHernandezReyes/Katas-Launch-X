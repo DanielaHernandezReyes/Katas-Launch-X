{
 "cells": [
  {
   "cell_type": "markdown",
   "metadata": {},
   "source": [
    "### Elaborado por: Daniela Estefania Hernandez Reyes\n",
    "#### **Modulo 6 - Kata:**\n",
    "##### Ejercicio 1: Usar listas para almacenar nombres de planetas\n",
    "Crea una variable denominada **planets**. Agrega los ocho planetas (sin Plutón) a la lista. A continuación, muestra el número de planetas."
   ]
  },
  {
   "cell_type": "code",
   "execution_count": 5,
   "metadata": {},
   "outputs": [
    {
     "name": "stdout",
     "output_type": "stream",
     "text": [
      "El sistema solar tiene 8 planetas\n"
     ]
    }
   ],
   "source": [
    "#Creación de la variable planets, para guardar la lista con los 8 planetas del sistema solar.\n",
    "planets = ['Mercurio','Venus','Tierra','Marte','Júpiter','Saturno','Urano','Neptuno']\n",
    "#Posteriormente contamos y mostramos el numero de elementos que contiene nuestra lista, en este caso los planetas.\n",
    "#Para obtener la longitud de la lista usamos la función len.\n",
    "print('El sistema solar tiene', len(planets), 'planetas')"
   ]
  },
  {
   "cell_type": "markdown",
   "metadata": {},
   "source": [
    "Agregamos a Plutón a la lista y posteriormente se muestra el ultimo elemento de la lista. (Ultimo planeta)."
   ]
  },
  {
   "cell_type": "code",
   "execution_count": 11,
   "metadata": {},
   "outputs": [
    {
     "name": "stdout",
     "output_type": "stream",
     "text": [
      "Actualmente el sistema solar tiene 13 planetas.\n",
      "El ultimo planeta añadido al sistema solar es: Plutón\n"
     ]
    }
   ],
   "source": [
    "#Para agregar otro planeta a la lista usamos el método .append('Planeta').\n",
    "planets.append('Plutón')\n",
    "print('Actualmente el sistema solar tiene', len(planets), 'planetas.' '\\nEl ultimo planeta añadido al sistema solar es:', planets [-1],)\n"
   ]
  },
  {
   "cell_type": "markdown",
   "metadata": {},
   "source": [
    "##### Ejercicio 2: Trabajando con datos de una lista"
   ]
  },
  {
   "cell_type": "code",
   "execution_count": 30,
   "metadata": {},
   "outputs": [
    {
     "name": "stdout",
     "output_type": "stream",
     "text": [
      "Planeta elegido por el usuario: Venus\n",
      "Planetas mas cercanos de al sol que el planeta seleccionado: \n",
      "['Mercurio']\n",
      "-------------------------------------------------------------------------\n",
      "Planetas mas lejanos del sol que el planeta seleccionado: \n",
      "['Tierra', 'Marte', 'Júpiter', 'Saturno', 'Urano', 'Neptuno']\n"
     ]
    }
   ],
   "source": [
    "#Inicialmente agregamos nuestra lista original de planetas.\n",
    "planets = ['Mercurio','Venus','Tierra','Marte','Júpiter','Saturno','Urano','Neptuno']\n",
    "#Solicitamos al usuario el nombre de un planeta.\n",
    "planeta_usuario = input(\"Ingresa el nombre un planeta del sistema solar.(Asegurate de que la primera letra sea mayuscula.) \\n Nota: Recuerda que Plutón ya no se considera planeta.\")\n",
    "\n",
    "#Despues buscamos el planeta que ingreso el usuario se encuentre en la lista.\n",
    "#Para buscar un valor en una lista usamos el método index().\n",
    "planetas_busq = planets.index(planeta_usuario)\n",
    "\n",
    "#Para recuperar la lista de planetas mas cercanos al sol, es decir los elementos almacenados anteriores al planeta elegido por el usuario usamos el \"Slice list\".\n",
    "print('Planeta elegido por el usuario: ' + planeta_usuario)\n",
    "print(\"Planetas mas cercanos de al sol que el planeta seleccionado: \")\n",
    "print(planets[0:planetas_busq])\n",
    "print('-------------------------------------------------------------------------')\n",
    "#Para recuperar la lista de planetas mas lejanos al sol, es decir los elementos almacenados despues del planeta elegido por el usuario usamos el \"Slice list\".\n",
    "print(\"Planetas mas lejanos del sol que el planeta seleccionado: \")\n",
    "print(planets[planetas_busq + 1:])"
   ]
  }
 ],
 "metadata": {
  "interpreter": {
   "hash": "4e961794ad8232c6fd9edbd148d09d9dd9c03ca17f124f2059d1269150ba0ea1"
  },
  "kernelspec": {
   "display_name": "Python 3.10.2 64-bit",
   "language": "python",
   "name": "python3"
  },
  "language_info": {
   "codemirror_mode": {
    "name": "ipython",
    "version": 3
   },
   "file_extension": ".py",
   "mimetype": "text/x-python",
   "name": "python",
   "nbconvert_exporter": "python",
   "pygments_lexer": "ipython3",
   "version": "3.10.2"
  },
  "orig_nbformat": 4
 },
 "nbformat": 4,
 "nbformat_minor": 2
}
