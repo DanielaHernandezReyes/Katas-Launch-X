{
 "cells": [
  {
   "cell_type": "markdown",
   "metadata": {},
   "source": [
    "### Elaborado por: Daniela Estefania Hernandez Reyes\n",
    "#### **Modulo 5 - Kata:**\n",
    "##### **Ejercicio 1:** Utilizar operadores aritméticos.\n",
    "Exploremos cómo podemos crear un programa que pueda calcular la distancia entre dos planetas. Comenzaremos usando dos distancias de planetas: Tierra (149.597.870 km) y Júpiter (778.547.200 km)."
   ]
  },
  {
   "cell_type": "code",
   "execution_count": 3,
   "metadata": {},
   "outputs": [
    {
     "name": "stdout",
     "output_type": "stream",
     "text": [
      "Distancia en km:  628949330\n",
      "Distancia en millas:  390577533\n"
     ]
    }
   ],
   "source": [
    "#Definimos las variables que almacenaran las distancias de los planetas Tierra y Marte.\n",
    "planeta_Tierra = 149597870\n",
    "planeta_Jupiter = 778547200\n",
    "\n",
    "#Realizamos la operacion para obtener la distancia en km y posteriormente la convertimos a millas.\n",
    "#Distancia en kilometros.\n",
    "dist_km = (planeta_Jupiter - planeta_Tierra)\n",
    "print(\"Distancia en km: \",dist_km)\n",
    "#Distancia en millas\n",
    "dist_millas = (dist_km * 0.621)\n",
    "print(\"Distancia en millas: \", int(dist_millas))\n"
   ]
  },
  {
   "cell_type": "markdown",
   "metadata": {},
   "source": [
    "##### **Ejercicio 2:** Convierte cadenas en números y usa valores absolutos.\n",
    "Crear una aplicación para trabajar con números y entrada de usuario.  \n",
    "Leer la distancia del sol para dos planetas, y luego mostrar la distancia entre los planetas. "
   ]
  },
  {
   "cell_type": "code",
   "execution_count": 11,
   "metadata": {},
   "outputs": [
    {
     "name": "stdout",
     "output_type": "stream",
     "text": [
      "Distancia en km:  50300000\n",
      "Distancia en millas:  31236300.0\n"
     ]
    }
   ],
   "source": [
    "#Lectura de valores:\n",
    "dist_planeta_uno = input(\"Introduzca la distancia entre el sol y el primer planeta en Km\")\n",
    "dist_planeta_dos = input(\"Introduzca la distancia entre el sol y el segundo planeta en Km\")\n",
    "\n",
    "#Convertimos los valores de cadena obtenidos de la entrada a numeros.\n",
    "dist_planeta_uno = int(dist_planeta_uno)\n",
    "dist_planeta_dos = int(dist_planeta_dos)\n",
    "\n",
    "#Realizamos la operacion para obtener la distancia en km y posteriormente la convertimos a millas.\n",
    "#Distancia en kilometros.\n",
    "dist_km = (dist_planeta_dos - dist_planeta_uno)\n",
    "print(\"Distancia en km: \",dist_km)\n",
    "#Distancia en millas\n",
    "dist_millas = (dist_km * 0.621)\n",
    "print(\"Distancia en millas: \", abs(dist_millas))"
   ]
  }
 ],
 "metadata": {
  "interpreter": {
   "hash": "4e961794ad8232c6fd9edbd148d09d9dd9c03ca17f124f2059d1269150ba0ea1"
  },
  "kernelspec": {
   "display_name": "Python 3.10.2 64-bit",
   "language": "python",
   "name": "python3"
  },
  "language_info": {
   "codemirror_mode": {
    "name": "ipython",
    "version": 3
   },
   "file_extension": ".py",
   "mimetype": "text/x-python",
   "name": "python",
   "nbconvert_exporter": "python",
   "pygments_lexer": "ipython3",
   "version": "3.10.2"
  },
  "orig_nbformat": 4
 },
 "nbformat": 4,
 "nbformat_minor": 2
}
