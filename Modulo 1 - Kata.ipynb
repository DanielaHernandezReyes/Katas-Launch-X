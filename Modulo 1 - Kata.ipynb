{
 "cells": [
  {
   "cell_type": "markdown",
   "metadata": {},
   "source": [
    "### Elaborado por: Daniela Estefania Hernandez Reyes\n",
    "#### **Modulo 1 - Kata:**"
   ]
  },
  {
   "cell_type": "markdown",
   "metadata": {},
   "source": [
    "#### **¡Computadora del Barco!**"
   ]
  },
  {
   "cell_type": "markdown",
   "metadata": {},
   "source": [
    "##### Fecha"
   ]
  },
  {
   "cell_type": "code",
   "execution_count": 4,
   "metadata": {},
   "outputs": [
    {
     "name": "stdout",
     "output_type": "stream",
     "text": [
      "La fecha del día de hoy es: 2022-02-10\n"
     ]
    }
   ],
   "source": [
    "from datetime import date #De la libreria \"datetime\" importamos el modulo \"date\"..\n",
    "print(\"La fecha del día de hoy es: \" + str(date.today())) #Imprime la fecha del día."
   ]
  },
  {
   "cell_type": "markdown",
   "metadata": {},
   "source": [
    "##### Convertidor de unidades"
   ]
  },
  {
   "cell_type": "code",
   "execution_count": 5,
   "metadata": {},
   "outputs": [
    {
     "name": "stdout",
     "output_type": "stream",
     "text": [
      "Resultado:\n",
      "11 parsecs, es igual a: 35.877159999999996 años luz.\n"
     ]
    }
   ],
   "source": [
    "#Programa de conversion de parsecs y años luz.\n",
    "parsecs = 11\n",
    "añosLuz = 3.26156 *parsecs #Conversión de parsecs a años luz\n",
    "print(\"Resultado:\")\n",
    "print(str(parsecs) + \" parsecs, es igual a: \" + str(añosLuz) + \" años luz.\")\n"
   ]
  }
 ],
 "metadata": {
  "interpreter": {
   "hash": "4e961794ad8232c6fd9edbd148d09d9dd9c03ca17f124f2059d1269150ba0ea1"
  },
  "kernelspec": {
   "display_name": "Python 3.10.2 64-bit",
   "language": "python",
   "name": "python3"
  },
  "language_info": {
   "codemirror_mode": {
    "name": "ipython",
    "version": 3
   },
   "file_extension": ".py",
   "mimetype": "text/x-python",
   "name": "python",
   "nbconvert_exporter": "python",
   "pygments_lexer": "ipython3",
   "version": "3.10.2"
  },
  "orig_nbformat": 4
 },
 "nbformat": 4,
 "nbformat_minor": 2
}
